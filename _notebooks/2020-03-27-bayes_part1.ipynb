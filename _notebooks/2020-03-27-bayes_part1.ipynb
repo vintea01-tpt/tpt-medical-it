{
 "cells": [
  {
   "cell_type": "markdown",
   "metadata": {},
   "source": [
    "# ベイズ勉強会 Part 1 ベイズ推論のワークフロー\n",
    "> ベイズ推論の一連の流れを整理する。\n",
    "\n",
    "- toc: true \n",
    "- badges: true\n",
    "- comments: true\n",
    "- categories: [bayes]\n",
    "- image: images/dag1.png"
   ]
  },
  {
   "cell_type": "markdown",
   "metadata": {},
   "source": [
    "ベイズ勉強会資料は『ベイズ推論による機械学習入門』{% fn 1 %}を元に、途中式計算をできるだけ省略せずに解説を行ったものです。"
   ]
  },
  {
   "cell_type": "markdown",
   "metadata": {},
   "source": [
    "# 概論: ベイズ推論のワークフロー"
   ]
  },
  {
   "cell_type": "markdown",
   "metadata": {},
   "source": [
    "> Important: ベイズ推論の共通するワークフロー"
   ]
  },
  {
   "cell_type": "markdown",
   "metadata": {},
   "source": [
    "> 1. 観測データ$\\mathcal{D}$と観測されていない未知の変数$\\mathbf{X}$の同時分布$p(\\mathcal{D}, \\mathbf{X})$を構築\n",
    "> 2. 事後分布$p(\\mathbf{X}|\\mathcal{D}) = \\frac{p(\\mathcal{D}, \\mathbf{X})}{p(\\mathcal{D})}$を求める。"
   ]
  },
  {
   "cell_type": "markdown",
   "metadata": {},
   "source": [
    "今回はさらに事後分布を用いて予測分布を計算するところまでを見る。"
   ]
  },
  {
   "cell_type": "markdown",
   "metadata": {},
   "source": [
    "## 予測分布\n",
    "\n",
    "観測されたデータ$\\mathcal{D}$に対して、パラメタ$\\theta$を持つ確率分布でモデルを組み、新しいデータ$x_*$を予測したい。$\\mathcal{D}$と$x_*$が独立に生成されるとすると、以下のような予測分布を用いることができる。\n",
    "\n",
    "$$p(x_*|\\mathcal{D}) = \\int p(x_*|\\theta)p(\\theta|\\mathcal{D}) d\\theta$$"
   ]
  },
  {
   "cell_type": "markdown",
   "metadata": {},
   "source": [
    "$\\mathcal{D}$, $\\theta$, $x_*$の関係をDAGで表すと次のようになる。\n",
    "\n",
    "![](dags/dag1.png)\n",
    "\n",
    "この時、$\\mathcal{D}$と$x_*$はパラメタ$\\theta$が与えられた条件の下での条件付き独立である。\n",
    "\n",
    "### 同時分布の記述\n",
    "\n",
    "$\\mathcal{D}$と$x_*$がパラメタ$\\theta$が与えられた条件の下での条件付き独立であることから同時分布は以下のようになる。\n",
    "$$\n",
    "p(\\mathcal{D}, x_*, \\theta) = p(\\mathcal{D}|\\theta)p(x_*|\\theta)p(\\theta)\n",
    "$$"
   ]
  },
  {
   "cell_type": "markdown",
   "metadata": {},
   "source": [
    "> Note: $p(\\theta)$は2個必要なのではないかと思うかもしれない。サイコロの目によって動きが決まる駒が2つあり、同時に動かす状況を考えよう。コマの動きを決めるのにサイコロを振る回数は1回である。"
   ]
  },
  {
   "cell_type": "markdown",
   "metadata": {},
   "source": [
    "> Note: $p(\\mathcal{D}|\\theta)$の部分はパラメタからデータが生成される過程を記述している。これを$\\theta$の関数として見た場合尤度関数と呼ぶ。この尤度関数を最大化する$\\theta$を$\\theta$の予測値とする方法を最尤推定という。"
   ]
  },
  {
   "cell_type": "markdown",
   "metadata": {},
   "source": [
    "> Note: $p(\\theta)$を事前分布という。同時確率は尤度関数×事前分布の形で書くことができる。"
   ]
  },
  {
   "cell_type": "markdown",
   "metadata": {},
   "source": [
    "### 事後分布の推論\n",
    "\n",
    "データ$\\mathcal{D}$だけが手元にある時、残りの変数の事後分布は\n",
    "$$\n",
    "\\begin{eqnarray}\n",
    "    p(x_*, \\theta|\\mathcal{D}) &=& \\frac{p(\\mathcal{D}, x_*, \\theta)}{p(\\mathcal{D})} \\\\\n",
    "    &=& \\frac{p(\\mathcal{D}|\\theta)p(x_*|\\theta)p(\\theta)}{p(\\mathcal{D})} \\\\\n",
    "    &=& p(x_*|\\theta)p(\\theta|\\mathcal{D})\n",
    "\\end{eqnarray}\n",
    "$$\n",
    "となる。"
   ]
  },
  {
   "cell_type": "markdown",
   "metadata": {},
   "source": [
    "> Note: ベイズの定理から$p(\\theta|\\mathcal{D}) = \\frac{p(\\mathcal{D}|\\theta)p(\\theta)}{p(\\mathcal{D})}$となることを用いた。"
   ]
  },
  {
   "cell_type": "markdown",
   "metadata": {},
   "source": [
    "> Note: $p(\\theta|\\mathcal{D})$を最大化する$\\theta$を$\\theta$の予測値とする方法を事後確率最大化推定(MAP推定)と呼ぶ。"
   ]
  },
  {
   "cell_type": "markdown",
   "metadata": {},
   "source": [
    "### 予測分布の算出\n",
    "\n",
    "$\\mathcal{D}$が決まった時の$x_*$の確率分布、すなわち予測分布$p(x_*|\\mathcal{D})$は$\\theta$を積分除去することで得られる。\n",
    "\n",
    "$$p(x_*|\\mathcal{D}) = \\int p(x_*|\\theta)p(\\theta|\\mathcal{D}) d\\theta$$\n",
    "\n",
    "以上がベイズ推論の予測までを含めた一連の流れである。次回から離散確率分布について具体的にやってみる。"
   ]
  },
  {
   "cell_type": "markdown",
   "metadata": {},
   "source": [
    "{{ '[須山敦志. 杉山将. ベイズ推論による機械学習入門. 講談社, 2017.](https://www.kspub.co.jp/book/detail/1538320.html)' | fndetail: 1 }}"
   ]
  }
 ],
 "metadata": {
  "kernelspec": {
   "display_name": "Julia 1.4.1",
   "language": "julia",
   "name": "julia-1.4"
  },
  "language_info": {
   "file_extension": ".jl",
   "mimetype": "application/julia",
   "name": "julia",
   "version": "1.4.1"
  }
 },
 "nbformat": 4,
 "nbformat_minor": 4
}
