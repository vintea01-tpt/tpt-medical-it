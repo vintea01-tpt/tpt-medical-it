{
 "cells": [
  {
   "cell_type": "markdown",
   "metadata": {},
   "source": [
    "# ベイズ勉強会 Part 7 ポアソン分布\n",
    "\n",
    "> ポアソン分布のベイズ推論\n",
    "\n",
    "- toc: true \n",
    "- badges: true\n",
    "- comments: true\n",
    "- categories: [bayes]\n",
    "- image: images/dag1.png"
   ]
  },
  {
   "cell_type": "markdown",
   "metadata": {},
   "source": [
    "ベイズ勉強会資料は『ベイズ推論による機械学習入門』{% fn 1 %}を元に、途中式計算をできるだけ省略せずに解説を行ったものです。"
   ]
  },
  {
   "cell_type": "markdown",
   "metadata": {},
   "source": [
    "## ポアソン分布\n",
    "\n",
    "ポアソン分布は次のような確率密度関数を分布関数にもつ確率分布である。\n",
    "\n",
    "$$\n",
    "\\mathrm{Poi} (x|\\lambda) = \\frac{\\lambda^x}{x!} \\mathrm{e}^{-\\lambda}\n",
    "$$\n",
    "\n",
    "xは非負の整数、パラメータ$\\lambda$は正の実数である。\n",
    "\n",
    "対数をとると\n",
    "\n",
    "$$\n",
    "\\ln \\mathrm{Poi} (x|\\lambda) = x \\ln \\lambda - \\ln x! - \\lambda\n",
    "$$\n",
    "\n",
    "である。"
   ]
  },
  {
   "cell_type": "markdown",
   "metadata": {},
   "source": [
    "## ガンマ分布\n",
    "\n",
    "ポアソン分布のパラメータ$\\lambda$は正の実数であるので、事前分布$p(\\lambda)$はガンマ分布で表すと都合が良い。ガンマ分布は次のような確率密度関数を分布関数にもつ確率分布である。\n",
    "\n",
    "$$\n",
    "\\mathrm{Gam}(\\lambda|a,b) = C_G(a,b)\\lambda^{a-1} \\mathrm{e}^{-b\\lambda}\n",
    "$$\n",
    "\n",
    "正規化係数$C_G(a,b)$は次のような関数である。\n",
    "\n",
    "$$\n",
    "C_G(a,b) = \\frac{b^a}{\\Gamma(a)}\n",
    "$$\n",
    "\n",
    "ガンマ分布の対数をとると\n",
    "\n",
    "$$\n",
    "\\ln \\mathrm{Gam}(\\lambda|a,b) = (a-1)\\ln \\lambda - b\\lambda + \\ln C_G(a,b)\n",
    "$$\n",
    "\n",
    "である。"
   ]
  },
  {
   "cell_type": "markdown",
   "metadata": {},
   "source": [
    "## モデル構築\n",
    "\n",
    "ある池で1時間釣りをした時に釣れる魚の数をベイズ推論で予測してみる。1時間の釣りをN回試した時の釣れた魚の数を${\\bf X} = {x_1,\\dots,x_N}$とすると、予測のためのモデルは次のように書ける。\n",
    "\n",
    "$$\n",
    "\\begin{eqnarray}\n",
    "    p({\\bf X},\\lambda) &=& p({\\bf X}|\\lambda)p(\\lambda) \\\\\n",
    "    p({\\bf X}|\\lambda) &=& \\Pi_{n=1}^N \\mathrm{Poi}(x_n|\\lambda) \\\\\n",
    "    p(\\lambda) &=& \\mathrm{Gam}(\\lambda|a,b)\n",
    "\\end{eqnarray}\n",
    "$$\n",
    "\n",
    "事前分布のパラメータ$a,b$はハイパーパラメータとなる。"
   ]
  },
  {
   "cell_type": "markdown",
   "metadata": {},
   "source": [
    "## 事後分布の推論\n",
    "\n",
    "事後分布$p(\\lambda|{\\bf X})$は同時分布を観測されたデータ${\\bf X}$の確率分布で割れば求まる。ただし${\\bf X}$は$\\lambda$を含んでおらず対数をとることにより定数項として扱える。\n",
    "\n",
    "$$\n",
    "\\begin{eqnarray}\n",
    "    \\ln p(\\lambda|{\\bf X}) &=& \\ln p({\\bf X}|\\lambda)p(\\lambda) + const. \\\\\n",
    "    &=& \\ln \\Pi_{n=1}^N \\mathrm{Poi}(x_n|\\lambda) + \\ln \\mathrm{Gam}(\\lambda|a,b) + const. \\\\\n",
    "    &=& \\Sigma_{n=1}^N \\{ x_n \\ln \\lambda - \\ln x_n ! - \\lambda \\} + (a-1)\\ln \\lambda - b\\lambda + \\ln C_G(a,b) + cosnt. \\\\\n",
    "    &=& (\\Sigma_{n=1}^N x_n + a - 1) \\ln \\lambda - (N + b) \\lambda + const.\n",
    "\\end{eqnarray}\n",
    "$$\n",
    "\n",
    "これはガンマ分布の対数をとった形である。よって事後分布は次のように表せる。\n",
    "\n",
    "$$\n",
    "\\begin{eqnarray}\n",
    "    p(\\lambda|{\\bf X}) &=& \\mathrm{Gam}(\\hat{a},\\hat{b}) \\\\\n",
    "    ただし　\\hat{a} &=& \\Sigma_{n=1}^N x_n + a \\\\\n",
    "    \\hat{b} &=& N + b\n",
    "\\end{eqnarray}\n",
    "$$"
   ]
  },
  {
   "cell_type": "markdown",
   "metadata": {},
   "source": [
    "## 予測分布の導出\n",
    "\n",
    "パラメータ$\\lambda$の事前分布と事後分布の形状が同じポアソン分布となるので、事前分布を用いて事前予測分布を求めた後、学習済みのハイパーパラメータを代入して学習済み予測分布を求める。未観測の変数$x_*$は観測${\\bf X}$と同じ分布から独立に生成されるとして、予測分布$p(x_*)$は次のように求まる。\n",
    "\n",
    "$$\n",
    "\\begin{eqnarray}\n",
    "    p(x_*) &=& \\int p(x_*|\\lambda)p(\\lambda)d\\lambda \\\\\n",
    "    &=& \\int \\mathrm{Poi}(x_*|\\lambda)\\mathrm{Gam}(\\lambda|a,b)d\\lambda \\\\\n",
    "    &=& \\int \\frac{\\lambda^{x_*} }{x_* !} \\mathrm{e}^{-\\lambda} C_G(a,b) \\lambda^{a-1} \\mathrm{e}^{-b\\lambda} d\\lambda \\\\\n",
    "    &=& \\frac{C_G(a,b)}{x_* !} \\int \\lambda^{x_* + a - 1} \\mathrm{e}^{-(1+b)\\lambda} d\\lambda \\\\\n",
    "    &=& \\frac{C_G(a,b)}{x_* ! C_G(x_* + a, 1+b)}　(ガンマ分布の定義式より積分部分はガンマ分布の正規化係数の形で表せる) \\\\\n",
    "    &=& \\frac{b^a \\Gamma(x_* + a)}{x_* ! \\Gamma(a) (1+b)^{x_* + a} } \\\\\n",
    "    &=& \\frac{\\Gamma(x_* + a)}{x_* ! \\Gamma(a)} (\\frac{b}{1+b})^{a} (\\frac{1}{1+b})^{x_*}\n",
    "\\end{eqnarray}\n",
    "$$\n",
    "\n",
    "$r = a, p = \\frac{1}{b+1}$とおくと、\n",
    "\n",
    "$$\n",
    "p(x_*) = \\frac{\\Gamma(x_* + r)}{x_* ! \\Gamma(r)} (1-p)^r p^{x_*}\n",
    "$$\n",
    "\n",
    "となり、これは負の二項分布(negative binomial distribution)の形である。よって$p(x_*)$は次のように表せる。\n",
    "\n",
    "$$\n",
    "\\begin{eqnarray}\n",
    "    p(x_*) &=& \\mathrm{NB}(x_*|r,p) \\\\\n",
    "    &=& \\frac{\\Gamma(x_* + r)}{x_* ! \\Gamma(r)} (1-p)^r p^{x_*} \\\\\n",
    "    ただし　r &=& a \\\\\n",
    "    p &=& \\frac{1}{b+1}\n",
    "\\end{eqnarray}\n",
    "$$\n",
    "\n",
    "$a,b$を$\\hat{a},\\hat{b}$に置き換えれば学習後の予測分布が求まる。"
   ]
  },
  {
   "cell_type": "markdown",
   "metadata": {},
   "source": [
    "{{ '[須山敦志. 杉山将. ベイズ推論による機械学習入門. 講談社, 2017.](https://www.kspub.co.jp/book/detail/1538320.html)' | fndetail: 1 }}"
   ]
  }
 ],
 "metadata": {
  "kernelspec": {
   "display_name": "Julia 1.4.1",
   "language": "julia",
   "name": "julia-1.4"
  },
  "language_info": {
   "file_extension": ".jl",
   "mimetype": "application/julia",
   "name": "julia",
   "version": "1.4.1"
  }
 },
 "nbformat": 4,
 "nbformat_minor": 4
}
